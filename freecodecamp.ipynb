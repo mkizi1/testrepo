{
 "cells": [
  {
   "cell_type": "code",
   "execution_count": 1,
   "metadata": {},
   "outputs": [
    {
     "name": "stdout",
     "output_type": "stream",
     "text": [
      "['Ali', 'Yusuf', 'Ibrahim']\n",
      "['Mehmet', 32, True]\n",
      "Ali\n"
     ]
    }
   ],
   "source": [
    "friends = [\"Ali\",\"Yusuf\",\"Ibrahim\"]\n",
    "data = [\"Mehmet\",32,True]\n",
    "print(friends)\n",
    "print(data)\n",
    "\n",
    "print(friends[0])"
   ]
  },
  {
   "cell_type": "code",
   "execution_count": 2,
   "metadata": {},
   "outputs": [
    {
     "name": "stdout",
     "output_type": "stream",
     "text": [
      "Ali\n",
      "Kaan\n",
      "Osman\n",
      "Yusuf\n"
     ]
    }
   ],
   "source": [
    "friends = [\"Ali\",\"Yusuf\",\"Ibrahim\",\"Osman\",\"Kaan\"]\n",
    "print(friends[0])\n",
    "print(friends[-1])\n",
    "print(friends[3])\n",
    "print(friends[1])"
   ]
  },
  {
   "cell_type": "code",
   "execution_count": 3,
   "metadata": {},
   "outputs": [
    {
     "name": "stdout",
     "output_type": "stream",
     "text": [
      "3\n",
      "1\n",
      "['Kevin', 'Kelly', 'Karen', 'Jim', 'Toby']\n",
      "[43, 23, 16, 15, 8, 4]\n",
      "[4, 8, 15, 16, 23, 43]\n",
      "['Kevin', 'Kelly', 'Karen', 'Jim', 'Toby']\n"
     ]
    }
   ],
   "source": [
    "lucky_numbers = [4,8,15,16,23,43]\n",
    "friends = [\"Kevin\", \"Karen\", \"Jim\", \"Oscar\",\"Toby\"]\n",
    "friends.append(\"Creed\")\n",
    "friends.insert(1,\"Kelly\")\n",
    "friends.remove(\"Oscar\")\n",
    "friends.pop()\n",
    "print(friends.index(\"Jim\"))\n",
    "print(friends.count(\"Karen\"))\n",
    "print(friends)\n",
    "lucky_numbers.reverse()\n",
    "print(lucky_numbers)\n",
    "lucky_numbers.sort()\n",
    "print(lucky_numbers)\n",
    "friends2 = friends.copy()\n",
    "print(friends2)\n"
   ]
  },
  {
   "cell_type": "code",
   "execution_count": 4,
   "metadata": {},
   "outputs": [
    {
     "name": "stdout",
     "output_type": "stream",
     "text": [
      "4\n"
     ]
    }
   ],
   "source": [
    "coordinates = (4, 5)\n",
    "print(coordinates[0])"
   ]
  },
  {
   "cell_type": "code",
   "execution_count": 5,
   "metadata": {},
   "outputs": [
    {
     "name": "stdout",
     "output_type": "stream",
     "text": [
      "top\n",
      "hello User\n",
      "Bottom\n"
     ]
    }
   ],
   "source": [
    "def say_hi():\n",
    "    print(\"hello User\")\n",
    "\n",
    "print(\"top\")\n",
    "say_hi()\n",
    "print(\"Bottom\")\n",
    "\n",
    "\n"
   ]
  },
  {
   "cell_type": "code",
   "execution_count": 6,
   "metadata": {},
   "outputs": [
    {
     "name": "stdout",
     "output_type": "stream",
     "text": [
      "Hello Mike, you are 35\n",
      "Hello Kevin, you are 48\n"
     ]
    }
   ],
   "source": [
    "def say_hi(name,age):\n",
    "    print(\"Hello \" + name + \", you are \" + str(age))\n",
    "\n",
    "say_hi(\"Mike\", 35)\n",
    "say_hi(\"Kevin\", 48)"
   ]
  },
  {
   "cell_type": "code",
   "execution_count": 7,
   "metadata": {},
   "outputs": [
    {
     "name": "stdout",
     "output_type": "stream",
     "text": [
      "64\n"
     ]
    }
   ],
   "source": [
    "def cube(num):\n",
    "    return num*num*num\n",
    "\n",
    "result = (cube(4))\n",
    "print(result)"
   ]
  },
  {
   "cell_type": "code",
   "execution_count": 8,
   "metadata": {},
   "outputs": [
    {
     "name": "stdout",
     "output_type": "stream",
     "text": [
      "You are a not male but are tall\n"
     ]
    }
   ],
   "source": [
    "is_male = False\n",
    "is_tall = True\n",
    "\n",
    "if  is_male and is_tall: \n",
    "    print(\"You are a tall male\")\n",
    "elif is_male and not(is_tall):\n",
    "    print(\"You are a short male\")\n",
    "elif not (is_male) and (is_tall):\n",
    "    print(\"You are a not male but are tall\")\n",
    "else:\n",
    "    print(\"You are either not a male or not tall\")"
   ]
  },
  {
   "cell_type": "code",
   "execution_count": null,
   "metadata": {},
   "outputs": [],
   "source": []
  },
  {
   "cell_type": "code",
   "execution_count": 9,
   "metadata": {},
   "outputs": [
    {
     "name": "stdout",
     "output_type": "stream",
     "text": [
      "871\n"
     ]
    }
   ],
   "source": [
    " def max_num(num1,num2,num3):\n",
    "    if num1 >= num2 and num1 >= num3: \n",
    "        return num1\n",
    "    elif num2 >= num1 and num2 >= num3:\n",
    "        return num2\n",
    "    else:\n",
    "        return num3\n",
    "print(max_num(300,871,53))"
   ]
  },
  {
   "cell_type": "code",
   "execution_count": 13,
   "metadata": {},
   "outputs": [],
   "source": [
    "num1 = float(input(\"Enter first number:  \"))\n",
    "op = input(\"Enter operator:  \")\n",
    "num2 = float(input(\"Enter second number:  \"))\n",
    "\n",
    "if op == \"+\":\n",
    "    print(num1 + num2)\n",
    "elif op == \"-\":\n",
    "    print(num1 - num2)\n",
    "elif op == \"/\":    \n",
    "    print(num1 / num2)\n",
    "elif op == \"*\":\n",
    "    print(num1 * num2)\n",
    "else:\n",
    "    print(\"Invalid operator\")"
   ]
  },
  {
   "cell_type": "code",
   "execution_count": null,
   "metadata": {},
   "outputs": [],
   "source": []
  }
 ],
 "metadata": {
  "kernelspec": {
   "display_name": "Python 3.9.13 ('base')",
   "language": "python",
   "name": "python3"
  },
  "language_info": {
   "codemirror_mode": {
    "name": "ipython",
    "version": 3
   },
   "file_extension": ".py",
   "mimetype": "text/x-python",
   "name": "python",
   "nbconvert_exporter": "python",
   "pygments_lexer": "ipython3",
   "version": "3.9.13"
  },
  "orig_nbformat": 4,
  "vscode": {
   "interpreter": {
    "hash": "f0ec72c7c125ec3ab414d94838a6dbc64bd70393fbe47f3efe1f543f5e0d9f55"
   }
  }
 },
 "nbformat": 4,
 "nbformat_minor": 2
}
