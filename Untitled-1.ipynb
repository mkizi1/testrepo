{
 "cells": [
  {
   "cell_type": "code",
   "execution_count": 8,
   "metadata": {},
   "outputs": [
    {
     "name": "stdout",
     "output_type": "stream",
     "text": [
      "March\n",
      "December\n",
      "None\n",
      "Not a valid Key\n"
     ]
    }
   ],
   "source": [
    "\n",
    "\n",
    "\n",
    "monthConversions = {\n",
    "    0: \"January\",\n",
    "    1: \"February\",\n",
    "    10: \"March\",\n",
    "    \"Apr\": \"April\",\n",
    "    \"May\": \"May\",\n",
    "    \"Jun\": \"June\",\n",
    "    \"Jul\": \"July\",\n",
    "    \"Aug\": \"August\",\n",
    "    \"Sep\": \"September\",\n",
    "    \"Oct\": \"October\",\n",
    "    \"Nov\": \"November\",\n",
    "    \"Dec\": \"December\",\n",
    "}\n",
    "\n",
    "print(monthConversions[10])\n",
    "print(monthConversions.get(\"Dec\"))\n",
    "print(monthConversions.get(\"Luv\"))\n",
    "print(monthConversions.get(\"Luv\", \"Not a valid Key\"))"
   ]
  },
  {
   "cell_type": "code",
   "execution_count": 11,
   "metadata": {},
   "outputs": [
    {
     "name": "stdout",
     "output_type": "stream",
     "text": [
      "1\n",
      "2\n",
      "3\n",
      "4\n",
      "5\n",
      "6\n",
      "7\n",
      "8\n",
      "9\n",
      "10\n",
      "Done with the loop\n"
     ]
    }
   ],
   "source": [
    "i = 1\n",
    "while i <= 10:\n",
    "    print(i)\n",
    "    i += 1\n",
    "    \n",
    "print(\"Done with the loop\")"
   ]
  },
  {
   "cell_type": "code",
   "execution_count": 15,
   "metadata": {},
   "outputs": [
    {
     "name": "stdout",
     "output_type": "stream",
     "text": [
      "Out of Guesses,YOU LOSE!\n"
     ]
    }
   ],
   "source": [
    "secret_word = \"giraffe\"\n",
    "guess = \"\"\n",
    "guess_count = 0\n",
    "guess_limit = 3\n",
    "out_of_guesses = False\n",
    "\n",
    "while guess != secret_word and not(out_of_guesses):\n",
    "    if guess_count < guess_limit:\n",
    "        guess = input(\"Enter guess: \")\n",
    "        guess_count += 1\n",
    "    else:\n",
    "        out_of_guesses = True\n",
    "\n",
    "if out_of_guesses:\n",
    "    print(\"Out of Guesses,YOU LOSE!\")\n",
    "else:\n",
    "    print(\"You win!\")"
   ]
  },
  {
   "cell_type": "code",
   "execution_count": 17,
   "metadata": {},
   "outputs": [
    {
     "name": "stdout",
     "output_type": "stream",
     "text": [
      "G\n",
      "i\n",
      "r\n",
      "a\n",
      "f\n",
      "f\n",
      "e\n",
      " \n",
      "A\n",
      "c\n",
      "a\n",
      "d\n",
      "e\n",
      "m\n",
      "y\n"
     ]
    }
   ],
   "source": [
    "for letter in \"Giraffe Academy\":\n",
    "    print(letter)"
   ]
  },
  {
   "cell_type": "code",
   "execution_count": 20,
   "metadata": {},
   "outputs": [
    {
     "name": "stdout",
     "output_type": "stream",
     "text": [
      "0\n",
      "1\n",
      "2\n",
      "3\n",
      "4\n",
      "5\n",
      "6\n",
      "7\n",
      "8\n",
      "9\n"
     ]
    }
   ],
   "source": [
    "friends = [\"Jim\", \"Karen\", \"Kevin\"]\n",
    "for index in range(10):\n",
    "    print(index)"
   ]
  },
  {
   "cell_type": "code",
   "execution_count": null,
   "metadata": {},
   "outputs": [],
   "source": []
  },
  {
   "cell_type": "code",
   "execution_count": 21,
   "metadata": {},
   "outputs": [
    {
     "name": "stdout",
     "output_type": "stream",
     "text": [
      "Jim\n",
      "Karen\n",
      "Kevin\n"
     ]
    }
   ],
   "source": [
    "friends = [\"Jim\", \"Karen\", \"Kevin\"]\n",
    "for index in range(len(friends)):\n",
    "    print(friends[index])"
   ]
  },
  {
   "cell_type": "code",
   "execution_count": 29,
   "metadata": {},
   "outputs": [
    {
     "name": "stdout",
     "output_type": "stream",
     "text": [
      "first Iteration\n",
      "Not first\n",
      "Not first\n",
      "Not first\n",
      "Not first\n"
     ]
    }
   ],
   "source": [
    "friends = [\"Jim\", \"Karen\", \"Kevin\"]\n",
    "\n",
    "for index in range(5):\n",
    "    if index == 0:\n",
    "        print(\"first Iteration\")\n",
    "    else:\n",
    "        print(\"Not first\")\n"
   ]
  },
  {
   "cell_type": "code",
   "execution_count": 30,
   "metadata": {},
   "outputs": [
    {
     "name": "stdout",
     "output_type": "stream",
     "text": [
      "8\n"
     ]
    }
   ],
   "source": [
    "print(2**3)"
   ]
  },
  {
   "cell_type": "code",
   "execution_count": 31,
   "metadata": {},
   "outputs": [
    {
     "name": "stdout",
     "output_type": "stream",
     "text": [
      "8\n"
     ]
    }
   ],
   "source": [
    "def raise_to_power(base_num, pow_num):\n",
    "    result = 1\n",
    "    for index in range(pow_num):\n",
    "        result = result * base_num\n",
    "    return result\n",
    "\n",
    "\n",
    "print(raise_to_power(2, 3))"
   ]
  },
  {
   "cell_type": "code",
   "execution_count": 33,
   "metadata": {},
   "outputs": [
    {
     "name": "stdout",
     "output_type": "stream",
     "text": [
      "8\n"
     ]
    }
   ],
   "source": [
    "number_grid = [\n",
    "    [1, 2, 3],\n",
    "    [4, 5, 6],\n",
    "    [7, 8, 9],\n",
    "    [0]\n",
    "]\n",
    "\n",
    "print(number_grid[2][1])"
   ]
  },
  {
   "cell_type": "code",
   "execution_count": 35,
   "metadata": {},
   "outputs": [
    {
     "name": "stdout",
     "output_type": "stream",
     "text": [
      "1\n",
      "2\n",
      "3\n",
      "4\n",
      "5\n",
      "6\n",
      "7\n",
      "8\n",
      "9\n",
      "0\n"
     ]
    }
   ],
   "source": [
    "number_grid = [\n",
    "    [1, 2, 3],\n",
    "    [4, 5, 6],\n",
    "    [7, 8, 9],\n",
    "    [0]\n",
    "]\n",
    "\n",
    "for row in number_grid:\n",
    "    for col in row:\n",
    "        print(col)\n"
   ]
  },
  {
   "cell_type": "code",
   "execution_count": 49,
   "metadata": {},
   "outputs": [
    {
     "name": "stdout",
     "output_type": "stream",
     "text": [
      "Dgg\n"
     ]
    }
   ],
   "source": [
    "def translate(phrase):\n",
    "    translation = \"\"\n",
    "    for letter in phrase:\n",
    "        if letter.lower() in \"aeiou\":\n",
    "            if letter.isupper():\n",
    "                translation = translation + \"G\"\n",
    "            else:\n",
    "                 translation = translation + \"g\"\n",
    "        else:\n",
    "            translation = translation + letter\n",
    "    return translation\n",
    "\n",
    "\n",
    "print(translate(input(\"Enter a phrase:  \")))\n"
   ]
  },
  {
   "cell_type": "code",
   "execution_count": 51,
   "metadata": {},
   "outputs": [
    {
     "name": "stdout",
     "output_type": "stream",
     "text": [
      "Comments are fun\n"
     ]
    }
   ],
   "source": [
    "# This prints out a string\n",
    "\n",
    "'''\n",
    "This \n",
    "prints\n",
    "out \n",
    "a\n",
    "string\n",
    "'''\n",
    "\n",
    "print(\"Comments are fun\")"
   ]
  },
  {
   "cell_type": "code",
   "execution_count": 58,
   "metadata": {},
   "outputs": [
    {
     "name": "stdout",
     "output_type": "stream",
     "text": [
      "45\n"
     ]
    }
   ],
   "source": [
    "try:\n",
    "    value = 10 / 0\n",
    "    number = int(input(\"Enter a number: \"))\n",
    "    print(number)\n",
    "except ZeroDivisionError as err:\n",
    "    print(err)\n",
    "except ValueError:\n",
    "    print(\"invalid Input\")\n"
   ]
  },
  {
   "cell_type": "code",
   "execution_count": null,
   "metadata": {},
   "outputs": [],
   "source": [
    "open(\"xxx.txt\", \"r\")\n",
    "open(\"xxx.txt\", \"w\")\n",
    "open(\"xxx.txt\", \"a\")\n",
    "open(\"xxx.txt\", \"r+\")\n",
    "\n",
    "xxx_variable = open(\"xxx.txt\", \"r\")\n",
    "\n",
    "xxx_variable_file.close()\n",
    "\n",
    "\n",
    "print(xxx_variable_file.readable())\n",
    "\n",
    "print(xxx_variable_file.readline())\n",
    "\n",
    "print(xxx_variable_file.readlines()[1])\n",
    "\n",
    "\n",
    "for xxx in xxx_variable_file.readlines():"
   ]
  },
  {
   "cell_type": "code",
   "execution_count": null,
   "metadata": {},
   "outputs": [],
   "source": [
    "xxx_variable = open(\"xxx.txt\", \"a\")\n",
    "xxx_variable_file.write(\"\\nXXXX - YYYY\") \n",
    "\n",
    "xxx_variable_file.close()\n",
    "\n",
    "\n",
    "\n",
    "xxx_variable = open(\"xxx.txt\", \"a\")\n",
    "\n",
    "\n"
   ]
  },
  {
   "cell_type": "code",
   "execution_count": null,
   "metadata": {},
   "outputs": [],
   "source": [
    "import useful_tools \n",
    "print(useful_tools.roll_dice(10))"
   ]
  }
 ],
 "metadata": {
  "kernelspec": {
   "display_name": "Python 3.9.13 ('base')",
   "language": "python",
   "name": "python3"
  },
  "language_info": {
   "codemirror_mode": {
    "name": "ipython",
    "version": 3
   },
   "file_extension": ".py",
   "mimetype": "text/x-python",
   "name": "python",
   "nbconvert_exporter": "python",
   "pygments_lexer": "ipython3",
   "version": "3.9.13"
  },
  "orig_nbformat": 4,
  "vscode": {
   "interpreter": {
    "hash": "f0ec72c7c125ec3ab414d94838a6dbc64bd70393fbe47f3efe1f543f5e0d9f55"
   }
  }
 },
 "nbformat": 4,
 "nbformat_minor": 2
}
